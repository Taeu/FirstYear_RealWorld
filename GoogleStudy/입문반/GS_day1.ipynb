{
 "cells": [
  {
   "cell_type": "markdown",
   "metadata": {},
   "source": [
    "# Regression, single Neural Network"
   ]
  },
  {
   "cell_type": "code",
   "execution_count": 2,
   "metadata": {},
   "outputs": [],
   "source": [
    "import numpy as np\n",
    "%matplotlib inline\n",
    "import matplotlib.pyplot as plt"
   ]
  },
  {
   "cell_type": "code",
   "execution_count": 3,
   "metadata": {
    "scrolled": true
   },
   "outputs": [
    {
     "data": {
      "text/plain": [
       "<matplotlib.collections.PathCollection at 0x1d41e048588>"
      ]
     },
     "execution_count": 3,
     "metadata": {},
     "output_type": "execute_result"
    },
    {
     "data": {
      "image/png": "[encoded data removed]",
      "text/plain": [
       "<matplotlib.figure.Figure at 0x1d41df6ceb8>"
      ]
     },
     "metadata": {},
     "output_type": "display_data"
    }
   ],
   "source": [
    "x1 = np.random.uniform(low=-1.0,high=1.0,size=100)\n",
    "y = 0.3*x1 +0.5\n",
    "\n",
    "plt.scatter(x1,y)"
   ]
  },
  {
   "cell_type": "markdown",
   "metadata": {},
   "source": [
    "## GD"
   ]
  },
  {
   "cell_type": "code",
   "execution_count": 5,
   "metadata": {},
   "outputs": [
    {
     "name": "stdout",
     "output_type": "stream",
     "text": [
      " 0 w1 = 0.71851, b = 0.30799, error = 0.23115\n",
      "10 w1 = 0.62493, b = 0.41001, error = 0.16045\n",
      "20 w1 = 0.54909, b = 0.45087, error = 0.11894\n",
      "30 w1 = 0.48987, b = 0.46930, error = 0.08953\n",
      "40 w1 = 0.44437, b = 0.47897, error = 0.06773\n",
      "50 w1 = 0.40964, b = 0.48482, error = 0.05132\n",
      "60 w1 = 0.38323, b = 0.48875, error = 0.03891\n",
      "70 w1 = 0.36317, b = 0.49156, error = 0.02952\n",
      "80 w1 = 0.34793, b = 0.49362, error = 0.02240\n",
      "90 w1 = 0.33637, b = 0.49517, error = 0.01699\n",
      "---------------------------------------------------------------------------\n",
      "99 w1 = 0.32837, b = 0.49624, error = 0.01325\n"
     ]
    }
   ],
   "source": [
    "# training_ GD\n",
    "num_epoch = 100\n",
    "learning_rate = 0.1\n",
    "\n",
    "w1 = np.random.uniform(low=-1.0,high=1.0)\n",
    "b = np.random.uniform(low=-1.0,high=1.0)\n",
    "\n",
    "for epoch in range(num_epoch) :\n",
    "    y_predict = x1*w1 +b\n",
    "    \n",
    "    error = np.abs(y_predict -y).mean()\n",
    "    if error < 0.005:\n",
    "        break\n",
    "    \n",
    "    w1 = w1 -learning_rate * (x1*(y_predict-y)).mean()\n",
    "    b = b-learning_rate * (y_predict-y).mean()\n",
    "    \n",
    "    if epoch % 10 == 0:\n",
    "        print(\"{:2} w1 = {:.5f}, b = {:.5f}, error = {:.5f}\".format(epoch, w1, b, error))\n",
    "\n",
    "print(\"-----\"*15)\n",
    "print(\"{:2} w1 = {:.5f}, b = {:.5f}, error = {:.5f}\".format(epoch, w1, b, error))\n",
    "    \n",
    "        "
   ]
  },
  {
   "cell_type": "code",
   "execution_count": 10,
   "metadata": {},
   "outputs": [
    {
     "data": {
      "text/plain": [
       "<matplotlib.collections.PathCollection at 0x1d41e4e4e80>"
      ]
     },
     "execution_count": 10,
     "metadata": {},
     "output_type": "execute_result"
    },
    {
     "data": {
      "image/png": "[encoded data removed]",
      "text/plain": [
       "<matplotlib.figure.Figure at 0x1d41e39a2e8>"
      ]
     },
     "metadata": {},
     "output_type": "display_data"
    }
   ],
   "source": [
    "plt.scatter(y,y_predict)"
   ]
  },
  {
   "cell_type": "code",
   "execution_count": 11,
   "metadata": {},
   "outputs": [],
   "source": [
    "import pandas as pd"
   ]
  },
  {
   "cell_type": "code",
   "execution_count": 18,
   "metadata": {},
   "outputs": [],
   "source": [
    "result = pd.DataFrame({'x1':x1,'y':y,'y_predict':y_predict})"
   ]
  },
  {
   "cell_type": "code",
   "execution_count": 19,
   "metadata": {},
   "outputs": [
    {
     "data": {
      "text/html": [
       "<div>\n",
       "<style scoped>\n",
       "    .dataframe tbody tr th:only-of-type {\n",
       "        vertical-align: middle;\n",
       "    }\n",
       "\n",
       "    .dataframe tbody tr th {\n",
       "        vertical-align: top;\n",
       "    }\n",
       "\n",
       "    .dataframe thead th {\n",
       "        text-align: right;\n",
       "    }\n",
       "</style>\n",
       "<table border=\"1\" class=\"dataframe\">\n",
       "  <thead>\n",
       "    <tr style=\"text-align: right;\">\n",
       "      <th></th>\n",
       "      <th>x1</th>\n",
       "      <th>y</th>\n",
       "      <th>y_predict</th>\n",
       "    </tr>\n",
       "  </thead>\n",
       "  <tbody>\n",
       "    <tr>\n",
       "      <th>0</th>\n",
       "      <td>0.615561</td>\n",
       "      <td>0.684668</td>\n",
       "      <td>0.698753</td>\n",
       "    </tr>\n",
       "    <tr>\n",
       "      <th>1</th>\n",
       "      <td>0.459759</td>\n",
       "      <td>0.637928</td>\n",
       "      <td>0.647469</td>\n",
       "    </tr>\n",
       "    <tr>\n",
       "      <th>2</th>\n",
       "      <td>0.072408</td>\n",
       "      <td>0.521722</td>\n",
       "      <td>0.519967</td>\n",
       "    </tr>\n",
       "    <tr>\n",
       "      <th>3</th>\n",
       "      <td>0.906532</td>\n",
       "      <td>0.771960</td>\n",
       "      <td>0.794531</td>\n",
       "    </tr>\n",
       "    <tr>\n",
       "      <th>4</th>\n",
       "      <td>0.868757</td>\n",
       "      <td>0.760627</td>\n",
       "      <td>0.782096</td>\n",
       "    </tr>\n",
       "    <tr>\n",
       "      <th>5</th>\n",
       "      <td>0.575217</td>\n",
       "      <td>0.672565</td>\n",
       "      <td>0.685473</td>\n",
       "    </tr>\n",
       "    <tr>\n",
       "      <th>6</th>\n",
       "      <td>-0.346751</td>\n",
       "      <td>0.395975</td>\n",
       "      <td>0.381995</td>\n",
       "    </tr>\n",
       "    <tr>\n",
       "      <th>7</th>\n",
       "      <td>0.917716</td>\n",
       "      <td>0.775315</td>\n",
       "      <td>0.798212</td>\n",
       "    </tr>\n",
       "    <tr>\n",
       "      <th>8</th>\n",
       "      <td>-0.141343</td>\n",
       "      <td>0.457597</td>\n",
       "      <td>0.449608</td>\n",
       "    </tr>\n",
       "    <tr>\n",
       "      <th>9</th>\n",
       "      <td>-0.088094</td>\n",
       "      <td>0.473572</td>\n",
       "      <td>0.467136</td>\n",
       "    </tr>\n",
       "  </tbody>\n",
       "</table>\n",
       "</div>"
      ],
      "text/plain": [
       "         x1         y  y_predict\n",
       "0  0.615561  0.684668   0.698753\n",
       "1  0.459759  0.637928   0.647469\n",
       "2  0.072408  0.521722   0.519967\n",
       "3  0.906532  0.771960   0.794531\n",
       "4  0.868757  0.760627   0.782096\n",
       "5  0.575217  0.672565   0.685473\n",
       "6 -0.346751  0.395975   0.381995\n",
       "7  0.917716  0.775315   0.798212\n",
       "8 -0.141343  0.457597   0.449608\n",
       "9 -0.088094  0.473572   0.467136"
      ]
     },
     "execution_count": 19,
     "metadata": {},
     "output_type": "execute_result"
    }
   ],
   "source": [
    "result.head(10)"
   ]
  },
  {
   "cell_type": "code",
   "execution_count": null,
   "metadata": {},
   "outputs": [],
   "source": []
  }
 ],
 "metadata": {
  "kernelspec": {
   "display_name": "Python 3",
   "language": "python",
   "name": "python3"
  },
  "language_info": {
   "codemirror_mode": {
    "name": "ipython",
    "version": 3
   },
   "file_extension": ".py",
   "mimetype": "text/x-python",
   "name": "python",
   "nbconvert_exporter": "python",
   "pygments_lexer": "ipython3",
   "version": "3.6.4"
  }
 },
 "nbformat": 4,
 "nbformat_minor": 2
}
