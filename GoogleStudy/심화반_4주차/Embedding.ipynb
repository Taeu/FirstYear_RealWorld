{
 "cells": [
  {
   "cell_type": "markdown",
   "metadata": {},
   "source": [
    "# Embedding\n",
    "\n"
   ]
  },
  {
   "cell_type": "code",
   "execution_count": 1,
   "metadata": {
    "colab": {
     "base_uri": "https://localhost:8080/",
     "height": 35
    },
    "colab_type": "code",
    "id": "NM5IF-f-t3_G",
    "outputId": "b76f164c-d9d0-4063-8544-be83c88ff57d"
   },
   "outputs": [],
   "source": [
    "\n",
    "# 절대 임포트 설정\n",
    "from __future__ import absolute_import\n",
    "from __future__ import print_function\n",
    "\n",
    "# 필요한 라이브러리들을 임포트\n",
    "import collections\n",
    "import math\n",
    "import os\n",
    "import random\n",
    "import zipfile\n",
    "\n",
    "import numpy as np\n",
    "from six.moves import urllib\n",
    "from six.moves import xrange  # pylint: disable=redefined-builtin\n",
    "import tensorflow as tf\n",
    "\n",
    "\n",
    "\n"
   ]
  },
  {
   "cell_type": "markdown",
   "metadata": {
    "colab_type": "text",
    "id": "lez4Z7fyvH37"
   },
   "source": [
    "# Step 1: 데이터 다운로드"
   ]
  },
  {
   "cell_type": "code",
   "execution_count": 2,
   "metadata": {
    "colab": {
     "base_uri": "https://localhost:8080/",
     "height": 35
    },
    "colab_type": "code",
    "id": "krHWzoYGt8R7",
    "outputId": "14b1f108-b8a1-46a9-d332-18ecc71b5114"
   },
   "outputs": [
    {
     "name": "stdout",
     "output_type": "stream",
     "text": [
      "Found and verified text8.zip\n",
      "Data size 17005207\n"
     ]
    }
   ],
   "source": [
    "# Step 1: 필요한 데이터를 다운로드한다.\n",
    "url = 'http://mattmahoney.net/dc/'\n",
    "\n",
    "def maybe_download(filename, expected_bytes):\n",
    "  \"\"\"파일이 존재하지 않으면 다운로드하고 사이즈가 적절한지 체크한다.\"\"\"\n",
    "  if not os.path.exists(filename):\n",
    "    filename, _ = urllib.request.urlretrieve(url + filename, filename)\n",
    "  statinfo = os.stat(filename)\n",
    "  if statinfo.st_size == expected_bytes:\n",
    "    print('Found and verified', filename)\n",
    "  else:\n",
    "    print(statinfo.st_size)\n",
    "    raise Exception(\n",
    "        'Failed to verify ' + filename + '. Can you get to it with a browser?')\n",
    "  return filename\n",
    "\n",
    "filename = maybe_download('text8.zip', 31344016)\n",
    "\n",
    "# 문자열로 데이터를 읽는다\n",
    "def read_data(filename):\n",
    "  \"\"\"zip파일 압축을 해제하고 단어들의 리스트를 읽는다.\"\"\"\n",
    "  with zipfile.ZipFile(filename) as f:\n",
    "    data = f.read(f.namelist()[0]).split()\n",
    "  return data\n",
    "\n",
    "words = read_data(filename)\n",
    "print('Data size', len(words))\n",
    "\n"
   ]
  },
  {
   "cell_type": "markdown",
   "metadata": {
    "colab_type": "text",
    "id": "toJZFdRLvXkZ"
   },
   "source": [
    "# Step 2: dictionary를 만들고 UNK 토큰을 이용해서 rare words를 교체(replace)한다.\n"
   ]
  },
  {
   "cell_type": "code",
   "execution_count": 3,
   "metadata": {
    "colab": {
     "base_uri": "https://localhost:8080/",
     "height": 53
    },
    "colab_type": "code",
    "id": "mAdHwn52uM3E",
    "outputId": "1306b74a-487e-4eb1-cd67-95aa255744a7"
   },
   "outputs": [
    {
     "name": "stdout",
     "output_type": "stream",
     "text": [
      "Most common words (+UNK) [['UNK', 418391], (b'the', 1061396), (b'of', 593677), (b'and', 416629), (b'one', 411764)]\n",
      "Sample data [5234, 3082, 12, 6, 195, 2, 3134, 46, 59, 156] [b'anarchism', b'originated', b'as', b'a', b'term', b'of', b'abuse', b'first', b'used', b'against']\n"
     ]
    }
   ],
   "source": [
    "vocabulary_size = 50000\n",
    "\n",
    "def build_dataset(words):\n",
    "  count = [['UNK', -1]]\n",
    "  count.extend(collections.Counter(words).most_common(vocabulary_size - 1))\n",
    "  dictionary = dict()\n",
    "  for word, _ in count:\n",
    "    dictionary[word] = len(dictionary)\n",
    "  data = list()\n",
    "  unk_count = 0\n",
    "  for word in words:\n",
    "    if word in dictionary:\n",
    "      index = dictionary[word]\n",
    "    else:\n",
    "      index = 0  # dictionary['UNK']\n",
    "      unk_count += 1\n",
    "    data.append(index)\n",
    "  count[0][1] = unk_count\n",
    "  reverse_dictionary = dict(zip(dictionary.values(), dictionary.keys()))\n",
    "  return data, count, dictionary, reverse_dictionary\n",
    "\n",
    "data, count, dictionary, reverse_dictionary = build_dataset(words)\n",
    "del words  # Hint to reduce memory.\n",
    "print('Most common words (+UNK)', count[:5])\n",
    "print('Sample data', data[:10], [reverse_dictionary[i] for i in data[:10]])\n",
    "\n",
    "data_index = 0\n",
    "\n"
   ]
  },
  {
   "cell_type": "markdown",
   "metadata": {
    "colab_type": "text",
    "id": "fRL36EPRvbmx"
   },
   "source": [
    "# Step 3: skip-gram model을 위한 트레이닝 데이터(batch)를 생성하기 위한 함수.\n"
   ]
  },
  {
   "cell_type": "code",
   "execution_count": 4,
   "metadata": {
    "colab": {
     "base_uri": "https://localhost:8080/",
     "height": 161
    },
    "colab_type": "code",
    "id": "gNmPFv2VuQO8",
    "outputId": "85ad1d38-200c-4890-c5cd-a89d1d5269e6"
   },
   "outputs": [
    {
     "name": "stdout",
     "output_type": "stream",
     "text": [
      "3082 b'originated' -> 5234 b'anarchism'\n",
      "3082 b'originated' -> 12 b'as'\n",
      "12 b'as' -> 6 b'a'\n",
      "12 b'as' -> 3082 b'originated'\n",
      "6 b'a' -> 195 b'term'\n",
      "6 b'a' -> 12 b'as'\n",
      "195 b'term' -> 2 b'of'\n",
      "195 b'term' -> 6 b'a'\n"
     ]
    }
   ],
   "source": [
    "\n",
    "def generate_batch(batch_size, num_skips, skip_window):\n",
    "  global data_index\n",
    "  assert batch_size % num_skips == 0\n",
    "  assert num_skips <= 2 * skip_window\n",
    "  batch = np.ndarray(shape=(batch_size), dtype=np.int32)\n",
    "  labels = np.ndarray(shape=(batch_size, 1), dtype=np.int32)\n",
    "  span = 2 * skip_window + 1 # [ skip_window target skip_window ]\n",
    "  buffer = collections.deque(maxlen=span)\n",
    "  for _ in range(span):\n",
    "    buffer.append(data[data_index])\n",
    "    data_index = (data_index + 1) % len(data)\n",
    "  for i in range(batch_size // num_skips):\n",
    "    target = skip_window  # target label at the center of the buffer\n",
    "    targets_to_avoid = [ skip_window ]\n",
    "    for j in range(num_skips):\n",
    "      while target in targets_to_avoid:\n",
    "        target = random.randint(0, span - 1)\n",
    "      targets_to_avoid.append(target)\n",
    "      batch[i * num_skips + j] = buffer[skip_window]\n",
    "      labels[i * num_skips + j, 0] = buffer[target]\n",
    "    buffer.append(data[data_index])\n",
    "    data_index = (data_index + 1) % len(data)\n",
    "  return batch, labels\n",
    "\n",
    "batch, labels = generate_batch(batch_size=8, num_skips=2, skip_window=1)\n",
    "for i in range(8):\n",
    "  print(batch[i], reverse_dictionary[batch[i]],\n",
    "      '->', labels[i, 0], reverse_dictionary[labels[i, 0]])\n",
    "\n"
   ]
  },
  {
   "cell_type": "markdown",
   "metadata": {
    "colab_type": "text",
    "id": "BfKQ10Lfvf85"
   },
   "source": [
    "# Step 4: skip-gram model 만들고 학습시킨다."
   ]
  },
  {
   "cell_type": "code",
   "execution_count": 5,
   "metadata": {
    "colab": {
     "base_uri": "https://localhost:8080/",
     "height": 71
    },
    "colab_type": "code",
    "id": "AhdTYTz9uUHj",
    "outputId": "c4fdcd55-d928-405c-e040-8644d9d43696"
   },
   "outputs": [
    {
     "name": "stdout",
     "output_type": "stream",
     "text": [
      "WARNING:tensorflow:From <ipython-input-5-8776a4f2c12a>:52: calling reduce_sum (from tensorflow.python.ops.math_ops) with keep_dims is deprecated and will be removed in a future version.\n",
      "Instructions for updating:\n",
      "keep_dims is deprecated, use keepdims instead\n"
     ]
    }
   ],
   "source": [
    "\n",
    "\n",
    "batch_size = 128\n",
    "embedding_size = 128  # embedding vector의 크기.\n",
    "skip_window = 1       # 윈도우 크기 : 왼쪽과 오른쪽으로 얼마나 많은 단어를 고려할지를 결정.\n",
    "num_skips = 2         # 레이블(label)을 생성하기 위해 인풋을 얼마나 많이 재사용 할 것인지를 결정.\n",
    "\n",
    "# sample에 대한 validation set은 원래 랜덤하게 선택해야한다. 하지만 여기서는 validation samples을 \n",
    "# 가장 자주 생성되고 낮은 숫자의 ID를 가진 단어로 제한한다.\n",
    "valid_size = 16     # validation 사이즈.\n",
    "valid_window = 100  # 분포의 앞부분(head of the distribution)에서만 validation sample을 선택한다.\n",
    "valid_examples = np.random.choice(valid_window, valid_size, replace=False)\n",
    "num_sampled = 64    # sample에 대한 negative examples의 개수.\n",
    "\n",
    "graph = tf.Graph()\n",
    "\n",
    "with graph.as_default():\n",
    "\n",
    "  # 트레이닝을 위한 인풋 데이터들\n",
    "  train_inputs = tf.placeholder(tf.int32, shape=[batch_size])\n",
    "  train_labels = tf.placeholder(tf.int32, shape=[batch_size, 1])\n",
    "  valid_dataset = tf.constant(valid_examples, dtype=tf.int32)\n",
    "\n",
    "  # Ops and variables pinned to the CPU because of missing GPU implementation\n",
    "  with tf.device('/cpu:0'):\n",
    "    # embedding vectors 행렬을 랜덤값으로 초기화\n",
    "    embeddings = tf.Variable(\n",
    "        tf.random_uniform([vocabulary_size, embedding_size], -1.0, 1.0))\n",
    "    # 행렬에 트레이닝 데이터를 지정\n",
    "    embed = tf.nn.embedding_lookup(embeddings, train_inputs)\n",
    "\n",
    "    # NCE loss를 위한 변수들을 선언\n",
    "    nce_weights = tf.Variable(\n",
    "        tf.truncated_normal([vocabulary_size, embedding_size],\n",
    "                            stddev=1.0 / math.sqrt(embedding_size)))\n",
    "    nce_biases = tf.Variable(tf.zeros([vocabulary_size]))\n",
    "\n",
    "  # batch의 average NCE loss를 계산한다.\n",
    "  # tf.nce_loss 함수는 loss를 평가(evaluate)할 때마다 negative labels을 가진 새로운 샘플을 자동적으로 생성한다.\n",
    "  loss = tf.reduce_mean(\n",
    "      tf.nn.nce_loss(weights=nce_weights,\n",
    "                     biases=nce_biases,\n",
    "                     labels=train_labels,\n",
    "                     inputs=embed,\n",
    "                     num_sampled=num_sampled,\n",
    "                     num_classes=vocabulary_size))\n",
    "\n",
    "  # SGD optimizer를 생성한다.\n",
    "  optimizer = tf.train.GradientDescentOptimizer(1.0).minimize(loss)\n",
    "\n",
    "  # minibatch examples과 모든 embeddings에 대해 cosine similarity를 계산한다.\n",
    "  norm = tf.sqrt(tf.reduce_sum(tf.square(embeddings), 1, keep_dims=True))\n",
    "  normalized_embeddings = embeddings / norm\n",
    "  valid_embeddings = tf.nn.embedding_lookup(\n",
    "      normalized_embeddings, valid_dataset)\n",
    "  similarity = tf.matmul(\n",
    "      valid_embeddings, normalized_embeddings, transpose_b=True)\n",
    "\n"
   ]
  },
  {
   "cell_type": "code",
   "execution_count": 0,
   "metadata": {
    "colab": {},
    "colab_type": "code",
    "id": "5UNiEVMrxwoU"
   },
   "outputs": [],
   "source": []
  },
  {
   "cell_type": "markdown",
   "metadata": {
    "colab_type": "text",
    "id": "ZtV8ez8uvjXa"
   },
   "source": [
    "# Step 5: 트레이닝을 시작한다."
   ]
  },
  {
   "cell_type": "code",
   "execution_count": 6,
   "metadata": {
    "colab": {
     "base_uri": "https://localhost:8080/",
     "height": 4175
    },
    "colab_type": "code",
    "id": "SVnKyOgYuXLD",
    "outputId": "28fe6500-4057-4d1c-d862-31b96162eced"
   },
   "outputs": [
    {
     "name": "stdout",
     "output_type": "stream",
     "text": [
      "WARNING:tensorflow:From /Users/32squared/anaconda2/envs/tensorflow/lib/python3.5/site-packages/tensorflow/python/util/tf_should_use.py:118: initialize_all_variables (from tensorflow.python.ops.variables) is deprecated and will be removed after 2017-03-02.\n",
      "Instructions for updating:\n",
      "Use `tf.global_variables_initializer` instead.\n",
      "Initialized\n",
      "Average loss at step  0 :  286.6629943847656\n",
      "Nearest to b'years': b'kapoor', b'pared', b'bystanders', b'nineties', b'tippit', b'trustees', b'panned', b'nig',\n",
      "Nearest to b'people': b'blackwood', b'bride', b'ek', b'slim', b'theist', b'dion', b'textured', b'proust',\n",
      "Nearest to b'as': b'samoa', b'sixths', b'ribosomes', b'bleeding', b'pantheist', b'palette', b'precious', b'tsetse',\n",
      "Nearest to b'zero': b'motley', b'mitchell', b'syphilis', b'muse', b'firebird', b'typical', b'workability', b'vinton',\n",
      "Nearest to b'have': b'proletariat', b'sennacherib', b'ashkenazim', b'homilies', b'gripping', b'szil', b'gypsys', b'faye',\n",
      "Nearest to b'seven': b'david', b'customer', b'circling', b'criminalized', b'toms', b'polybius', b'worden', b'ledge',\n",
      "Nearest to b'however': b'received', b'worm', b'language', b'infectors', b'sulfur', b'shewa', b'nickel', b'cats',\n",
      "Nearest to b'only': b'addressable', b'page', b'laboratory', b'perversion', b'misrepresenting', b'azerbaijan', b'antiwar', b'siliceous',\n",
      "Nearest to b'no': b'fellow', b'romany', b'eutelsat', b'calif', b'mobile', b'opiates', b'hebrews', b'chambered',\n",
      "Nearest to b'united': b'diffusing', b'isomorphisms', b'kingdom', b'targum', b'crusader', b'bas', b'illyrian', b'commodities',\n",
      "Nearest to b'new': b'moller', b'jacksonville', b'carboniferous', b'expounded', b'myspace', b'loew', b'munster', b'tristar',\n",
      "Nearest to b'four': b'conceptual', b'jack', b'kom', b'criticized', b'liberalized', b'malacca', b'tracey', b'giants',\n",
      "Nearest to b'some': b'fay', b'parastatal', b'panorama', b'compress', b'cobbler', b'azeri', b'whipping', b'universala',\n",
      "Nearest to b'while': b'nugget', b'delson', b'truetype', b'prophylaxis', b'higson', b'bingen', b'diodorus', b'weekdays',\n",
      "Nearest to b'they': b'lewd', b'smoking', b'rosalind', b'kit', b'redundantly', b'raul', b'opera', b'replacement',\n",
      "Nearest to b'has': b'irresponsibility', b'attain', b'plunder', b'qt', b'charitable', b'micas', b'omim', b'upland',\n",
      "Average loss at step  2000 :  114.09407158374786\n",
      "Average loss at step  4000 :  53.24921693468094\n",
      "Average loss at step  6000 :  33.149840839147565\n",
      "Average loss at step  8000 :  23.850132327079773\n",
      "Average loss at step  10000 :  17.50914803266525\n",
      "Nearest to b'years': b'analogue', b'zero', b'afghani', b'leo', b'normally', b'abacus', b'nine', b'classic',\n",
      "Nearest to b'people': b'blackwood', b'reprint', b'slim', UNK, b'ek', b'reginae', b'bride', b'fao',\n",
      "Nearest to b'as': b'and', b'is', b'pogroms', b'was', b'reginae', b'in', b'of', b'lie',\n",
      "Nearest to b'zero': b'nine', b'vs', b'seven', b'agave', b'gb', b'cc', b'gland', b'phi',\n",
      "Nearest to b'have': b'has', b'proletariat', b'sigma', b'chased', b'be', b'gb', b'peace', b'illinois',\n",
      "Nearest to b'seven': b'zero', b'nine', b'agave', b'reginae', b'concept', b'vs', b'liberal', b'david',\n",
      "Nearest to b'however': b'language', UNK, b'received', b'nickel', b'was', b'at', b'versa', b'time',\n",
      "Nearest to b'only': b'page', b'fao', b'laboratory', b'agave', b'azerbaijan', b'graves', b'and', b'confederates',\n",
      "Nearest to b'no': b'fellow', b'rotate', b'calif', b'starts', b'powerful', b'mobile', b'merely', b'martin',\n",
      "Nearest to b'united': b'kingdom', b'of', b'constant', b'gb', b'autistics', b'cognition', b'gland', b'wire',\n",
      "Nearest to b'new': b'aberdeen', b'associations', b'expounded', b'soul', b'clinical', b'propane', b'fawcett', b'and',\n",
      "Nearest to b'four': b'nine', b'austin', b'eight', b'victoriae', b'gland', b'agave', b'vs', b'refer',\n",
      "Nearest to b'some': b'austin', b'homomorphism', b'alpina', b'turn', b'rotate', b'kim', b'question', b'gb',\n",
      "Nearest to b'while': b'poetry', b'mythology', b'agricultural', b'heroes', b'one', b'flavius', b'cs', b'british',\n",
      "Nearest to b'they': b'amo', b'smoking', b'he', b'not', b'kit', b'rosalind', b'murderer', b'gb',\n",
      "Nearest to b'has': b'have', b'ayn', b'gb', b'charitable', b'theistic', b'attain', b'quarks', b'hasten',\n",
      "Average loss at step  12000 :  13.812287078142166\n",
      "Average loss at step  14000 :  11.528602099895478\n",
      "Average loss at step  16000 :  9.858114647388458\n",
      "Average loss at step  18000 :  8.716536208629607\n",
      "Average loss at step  20000 :  7.702831062912941\n",
      "Nearest to b'years': b'analogue', b'dasyprocta', b'nine', b'zero', b'shirkuh', b'classic', b'vetoed', b'afghani',\n",
      "Nearest to b'people': b'blackwood', b'reprint', b'slim', b'ek', b'agouti', b'amazons', b'compelled', b'bride',\n",
      "Nearest to b'as': b'and', b'was', b'for', b'is', b'by', b'agouti', b'aquila', b'pogroms',\n",
      "Nearest to b'zero': b'nine', b'seven', b'five', b'eight', b'six', b'dasyprocta', b'three', b'four',\n",
      "Nearest to b'have': b'has', b'be', b'had', b'serbians', b'chased', b'were', b'are', b'catch',\n",
      "Nearest to b'seven': b'nine', b'zero', b'eight', b'four', b'three', b'dasyprocta', b'two', b'five',\n",
      "Nearest to b'however': b'language', b'was', b'received', b'nickel', b'at', b'kolbe', b'time', b'sulfur',\n",
      "Nearest to b'only': b'page', b'agouti', b'fao', b'agave', b'laboratory', b'charlton', b'azerbaijan', b'antiwar',\n",
      "Nearest to b'no': b'a', b'administrators', b'eugene', b'rotate', b'unite', b'northwards', b'powerful', b'buses',\n",
      "Nearest to b'united': b'of', b'kingdom', b'constant', b'dasyprocta', b'autistics', b'gb', b'abydos', b'cognition',\n",
      "Nearest to b'new': b'expounded', b'one', b'and', b'absalom', b'associations', b'soul', b'of', b'clinical',\n",
      "Nearest to b'four': b'eight', b'seven', b'three', b'nine', b'zero', b'two', b'six', b'five',\n",
      "Nearest to b'some': b'austin', b'alpina', b'homomorphism', b'rotate', b'kim', b'cos', b'turn', b'the',\n",
      "Nearest to b'while': b'truetype', b'british', b'other', b'diodorus', b'poetry', b'and', b'heroes', b'flavius',\n",
      "Nearest to b'they': b'he', b'we', b'it', b'not', b'amo', b'smoking', b'kit', b'murderer',\n",
      "Nearest to b'has': b'have', b'is', b'had', b'was', b'ayn', b'theistic', b'charitable', b'hasten',\n",
      "Average loss at step  22000 :  7.201639919877052\n",
      "Average loss at step  24000 :  6.918796161651612\n",
      "Average loss at step  26000 :  6.666443098545074\n",
      "Average loss at step  28000 :  6.228345336437226\n",
      "Average loss at step  30000 :  6.236154195964336\n",
      "Nearest to b'years': b'analogue', b'dasyprocta', b'trinomial', b'abitibi', b'zero', b'vetoed', b'shirkuh', b'classic',\n",
      "Nearest to b'people': b'blackwood', UNK, b'reprint', b'agouti', b'ek', b'slim', b'compelled', b'resurrection',\n",
      "Nearest to b'as': b'abet', b'and', b'is', b'by', b'for', b'agouti', b'was', b'aquila',\n",
      "Nearest to b'zero': b'five', b'eight', b'six', b'seven', b'nine', b'four', b'dasyprocta', b'three',\n",
      "Nearest to b'have': b'has', b'had', b'be', b'are', b'were', b'serbians', b'sennacherib', b'chased',\n",
      "Nearest to b'seven': b'nine', b'eight', b'six', b'four', b'five', b'three', b'zero', b'dasyprocta',\n",
      "Nearest to b'however': b'language', b'received', b'was', b'nickel', b'and', b'at', b'versa', b'but',\n",
      "Nearest to b'only': b'page', b'agouti', b'fao', b'agave', b'abitibi', b'antiwar', b'charlton', b'stylistic',\n",
      "Nearest to b'no': b'a', b'administrators', b'amalthea', b'cpc', b'northwards', b'unite', b'eugene', b'rotate',\n",
      "Nearest to b'united': b'of', b'kingdom', b'autistics', b'anoa', b'following', b'constant', b'aosta', b'targum',\n",
      "Nearest to b'new': b'expounded', b'carboniferous', b'soul', b'of', b'absalom', b'associations', b'fawcett', b'one',\n",
      "Nearest to b'four': b'six', b'five', b'eight', b'seven', b'three', b'nine', b'two', b'zero',\n",
      "Nearest to b'some': b'abet', b'amalthea', b'the', b'many', b'austin', b'rotate', b'alpina', b'deuterium',\n",
      "Nearest to b'while': b'and', b'truetype', b'aba', b'british', b'rescues', b'abet', b'flavius', b'other',\n",
      "Nearest to b'they': b'he', b'we', b'it', b'not', b'there', b'who', b'amo', b'amalthea',\n",
      "Nearest to b'has': b'have', b'had', b'is', b'was', b'having', b'ayn', b'predates', b'gb',\n",
      "Average loss at step  32000 :  5.890912186384201\n",
      "Average loss at step  34000 :  5.887196389317513\n",
      "Average loss at step  36000 :  5.698776836395264\n",
      "Average loss at step  38000 :  5.251764626085758\n",
      "Average loss at step  40000 :  5.4756226323843\n",
      "Nearest to b'years': b'analogue', b'dasyprocta', b'abitibi', b'bystanders', b'trinomial', b'zero', b'seven', b'vetoed',\n",
      "Nearest to b'people': b'blackwood', b'reprint', b'resurrection', b'agouti', b'ek', b'pre', b'bhangra', b'compelled',\n",
      "Nearest to b'as': b'abet', b'by', b'aquila', b'agouti', b'and', b'reginae', b'is', b'gb',\n",
      "Nearest to b'zero': b'five', b'nine', b'eight', b'seven', b'six', b'four', b'dasyprocta', b'three',\n",
      "Nearest to b'have': b'has', b'had', b'be', b'were', b'are', b'serbians', b'sennacherib', b'aosta',\n",
      "Nearest to b'seven': b'eight', b'six', b'four', b'nine', b'five', b'three', b'zero', b'one',\n",
      "Nearest to b'however': b'but', b'amputation', b'which', b'and', b'language', b'received', b'time', b'nickel',\n",
      "Nearest to b'only': b'agouti', b'fao', b'ergative', b'page', b'abitibi', b'agave', b'antiwar', b'charlton',\n",
      "Nearest to b'no': b'a', b'administrators', b'amalthea', b'cpc', b'another', b'northwards', b'amputation', b'proceed',\n",
      "Nearest to b'united': b'kingdom', b'of', b'anoa', b'autistics', b'following', b'dasyprocta', b'targum', b'abydos',\n",
      "Nearest to b'new': b'expounded', b'amputation', b'one', b'carboniferous', b'absalom', b'aberdeen', b'soul', b'fawcett',\n",
      "Nearest to b'four': b'six', b'five', b'three', b'seven', b'eight', b'two', b'zero', b'nine',\n",
      "Nearest to b'some': b'many', b'the', b'amalthea', b'abet', b'rotate', b'its', b'alpina', b'question',\n",
      "Nearest to b'while': b'and', b'aba', b'truetype', b'british', b'abet', b'rescues', b'flavius', b'for',\n",
      "Nearest to b'they': b'he', b'we', b'it', b'not', b'there', b'who', b'i', b'amalthea',\n",
      "Nearest to b'has': b'have', b'had', b'is', b'was', b'having', b'ayn', b'predates', b'hasten',\n"
     ]
    },
    {
     "name": "stdout",
     "output_type": "stream",
     "text": [
      "Average loss at step  42000 :  5.3166998206377025\n",
      "Average loss at step  44000 :  5.315862671494484\n",
      "Average loss at step  46000 :  5.265403171777725\n",
      "Average loss at step  48000 :  5.0262268167734145\n",
      "Average loss at step  50000 :  5.184479963541031\n",
      "Nearest to b'years': b'analogue', b'kapoor', b'seven', b'bystanders', b'abitibi', b'decades', b'vetoed', b'ht',\n",
      "Nearest to b'people': b'nguni', b'resurrection', b'blackwood', b'reprint', b'agouti', UNK, b'reginae', b'bhangra',\n",
      "Nearest to b'as': b'abet', b'agouti', b'aquila', b'thibetanus', b'by', b'reginae', b'victoriae', b'when',\n",
      "Nearest to b'zero': b'seven', b'eight', b'five', b'six', b'nine', b'four', b'three', b'dasyprocta',\n",
      "Nearest to b'have': b'had', b'has', b'be', b'were', b'are', b'serbians', b'sennacherib', b'aosta',\n",
      "Nearest to b'seven': b'eight', b'six', b'four', b'three', b'nine', b'five', b'zero', b'one',\n",
      "Nearest to b'however': b'but', b'which', b'amputation', b'language', b'received', b'when', b'and', b'that',\n",
      "Nearest to b'only': b'ergative', b'page', b'agouti', b'charlton', b'fao', b'usually', b'antiwar', b'stylistic',\n",
      "Nearest to b'no': b'a', b'amalthea', b'another', b'administrators', b'it', b'northwards', b'cpc', b'three',\n",
      "Nearest to b'united': b'kingdom', b'autistics', b'following', b'anoa', b'same', b'isomorphisms', b'targum', b'transponder',\n",
      "Nearest to b'new': b'expounded', b'amputation', b'carboniferous', b'absalom', b'checkers', b'soul', b'fawcett', b'associations',\n",
      "Nearest to b'four': b'three', b'six', b'five', b'seven', b'eight', b'two', b'one', b'zero',\n",
      "Nearest to b'some': b'many', b'amalthea', b'abet', b'the', b'both', b'rotate', b'question', b'alpina',\n",
      "Nearest to b'while': b'and', b'aba', b'british', b'abet', b'rescues', b'for', b'truetype', b'flavius',\n",
      "Nearest to b'they': b'he', b'we', b'there', b'not', b'it', b'who', b'i', b'hbox',\n",
      "Nearest to b'has': b'had', b'have', b'was', b'is', b'having', b'ayn', b'hasten', b'predates',\n",
      "Average loss at step  52000 :  5.168179199934006\n",
      "Average loss at step  54000 :  5.1219631575346\n",
      "Average loss at step  56000 :  5.062560331702232\n",
      "Average loss at step  58000 :  5.120233710050583\n",
      "Average loss at step  60000 :  4.955607742249966\n",
      "Nearest to b'years': b'analogue', b'kapoor', b'michelob', b'six', b'microcebus', b'decades', b'lar', b'ssbn',\n",
      "Nearest to b'people': b'blackwood', b'callithrix', b'nguni', b'resurrection', b'cebus', b'reprint', b'microsite', b'ek',\n",
      "Nearest to b'as': b'abet', b'marmoset', b'agouti', b'when', b'aquila', b'victoriae', b'tamarin', b'reginae',\n",
      "Nearest to b'zero': b'six', b'eight', b'seven', b'five', b'four', b'nine', b'three', b'dasyprocta',\n",
      "Nearest to b'have': b'had', b'has', b'were', b'be', b'are', b'serbians', b'aosta', b'tamarin',\n",
      "Nearest to b'seven': b'eight', b'six', b'five', b'nine', b'four', b'three', b'zero', b'callithrix',\n",
      "Nearest to b'however': b'but', b'which', b'amputation', b'that', b'microcebus', b'when', b'and', b'thibetanus',\n",
      "Nearest to b'only': b'ergative', b'page', b'agouti', b'usually', b'charlton', b'fao', b'antiwar', b'microsite',\n",
      "Nearest to b'no': b'a', b'another', b'amalthea', b'amputation', b'dist', b'administrators', b'northwards', b'animists',\n",
      "Nearest to b'united': b'of', b'anoa', b'following', b'kingdom', b'autistics', b'same', b'callithrix', b'microcebus',\n",
      "Nearest to b'new': b'expounded', b'amputation', b'absalom', b'checkers', b'carboniferous', b'tamarin', b'associations', b'soul',\n",
      "Nearest to b'four': b'five', b'six', b'three', b'eight', b'seven', b'nine', b'two', b'zero',\n",
      "Nearest to b'some': b'many', b'amalthea', b'abet', b'the', b'both', b'any', b'these', b'question',\n",
      "Nearest to b'while': b'and', b'aba', b'british', b'rescues', b'abet', b'tamarin', b'analogue', b'for',\n",
      "Nearest to b'they': b'he', b'we', b'there', b'it', b'not', b'who', b'i', b'hbox',\n",
      "Nearest to b'has': b'had', b'have', b'was', b'is', b'having', b'predates', b'hasten', b'ayn',\n",
      "Average loss at step  62000 :  4.803347140550613\n",
      "Average loss at step  64000 :  4.7944134863615036\n",
      "Average loss at step  66000 :  4.963341791749\n",
      "Average loss at step  68000 :  4.926259048342705\n",
      "Average loss at step  70000 :  4.773183284640313\n",
      "Nearest to b'years': b'analogue', b'kapoor', b'michelob', b'decades', b'microcebus', b'lar', b'ssbn', b'abitibi',\n",
      "Nearest to b'people': b'blackwood', b'resurrection', b'reprint', b'nguni', b'callithrix', b'cebus', b'bargain', b'ek',\n",
      "Nearest to b'as': b'abet', b'when', b'marmoset', b'victoriae', b'aquila', b'thaler', b'agouti', b'callithrix',\n",
      "Nearest to b'zero': b'five', b'seven', b'six', b'eight', b'nine', b'four', b'three', b'tamarin',\n",
      "Nearest to b'have': b'had', b'has', b'were', b'are', b'be', b'serbians', b'tamarin', b'aosta',\n",
      "Nearest to b'seven': b'six', b'eight', b'five', b'four', b'three', b'nine', b'zero', b'callithrix',\n",
      "Nearest to b'however': b'but', b'which', b'amputation', b'that', b'when', b'microcebus', b'thibetanus', b'and',\n",
      "Nearest to b'only': b'usually', b'agouti', b'page', b'ergative', b'antiwar', b'cebus', b'agave', b'fao',\n",
      "Nearest to b'no': b'a', b'another', b'three', b'amputation', b'northwards', b'dist', b'administrators', b'animists',\n",
      "Nearest to b'united': b'anoa', b'same', b'autistics', b'following', b'kingdom', b'callithrix', b'isomorphisms', b'transponder',\n",
      "Nearest to b'new': b'expounded', b'amputation', b'thaler', b'absalom', b'tamarin', b'carboniferous', b'checkers', b'aberdeen',\n",
      "Nearest to b'four': b'five', b'six', b'three', b'seven', b'eight', b'two', b'zero', b'nine',\n",
      "Nearest to b'some': b'many', b'amalthea', b'these', b'abet', b'both', b'other', b'any', b'all',\n",
      "Nearest to b'while': b'and', b'aba', b'rescues', b'abet', b'though', b'are', b'tamarin', b'analogue',\n",
      "Nearest to b'they': b'we', b'he', b'there', b'it', b'not', b'who', b'you', b'i',\n",
      "Nearest to b'has': b'had', b'have', b'was', b'is', b'having', b'tamarin', b'predates', b'bisexuals',\n",
      "Average loss at step  72000 :  4.7939718791246415\n",
      "Average loss at step  74000 :  4.771322137475014\n",
      "Average loss at step  76000 :  4.895430780410766\n",
      "Average loss at step  78000 :  4.786790539264679\n",
      "Average loss at step  80000 :  4.796541464090347\n",
      "Nearest to b'years': b'analogue', b'decades', b'kapoor', b'michelob', b'lar', b'microcebus', b'zero', b'ssbn',\n",
      "Nearest to b'people': b'blackwood', b'reprint', b'callithrix', b'nguni', b'resurrection', b'cebus', b'bargain', b'microsite',\n",
      "Nearest to b'as': b'when', b'abet', b'marmoset', b'aquila', b'thaler', b'reginae', b'victoriae', b'agouti',\n",
      "Nearest to b'zero': b'eight', b'five', b'six', b'seven', b'four', b'nine', b'dasyprocta', b'three',\n",
      "Nearest to b'have': b'had', b'has', b'were', b'are', b'be', b'serbians', b'tamarin', b'having',\n",
      "Nearest to b'seven': b'eight', b'six', b'five', b'four', b'nine', b'three', b'zero', b'callithrix',\n",
      "Nearest to b'however': b'but', b'which', b'when', b'that', b'amputation', b'thibetanus', b'although', b'microcebus',\n",
      "Nearest to b'only': b'usually', b'agouti', b'antiwar', b'page', b'ergative', b'cegep', b'cebus', b'fao',\n",
      "Nearest to b'no': b'another', b'a', b'serialized', b'any', b'northwards', b'animists', b'cegep', b'amputation',\n",
      "Nearest to b'united': b'anoa', b'same', b'of', b'autistics', b'kingdom', b'following', b'isomorphisms', b'transponder',\n",
      "Nearest to b'new': b'expounded', b'amputation', b'thaler', b'aberdeen', b'transcribed', b'checkers', b'absalom', b'tamarin',\n",
      "Nearest to b'four': b'five', b'six', b'three', b'seven', b'eight', b'two', b'nine', b'zero',\n",
      "Nearest to b'some': b'many', b'these', b'both', b'amalthea', b'all', b'abet', b'various', b'crb',\n",
      "Nearest to b'while': b'and', b'aba', b'abet', b'though', b'rescues', b'analogue', b'tamarin', b'are',\n",
      "Nearest to b'they': b'we', b'he', b'there', b'it', b'who', b'you', b'not', b'i',\n",
      "Nearest to b'has': b'had', b'have', b'was', b'is', b'having', b'tamarin', b'predates', b'hasten',\n",
      "Average loss at step  82000 :  4.798530783057213\n",
      "Average loss at step  84000 :  4.788858763694763\n",
      "Average loss at step  86000 :  4.7916005991697315\n",
      "Average loss at step  88000 :  4.700266378760338\n",
      "Average loss at step  90000 :  4.758786393761635\n",
      "Nearest to b'years': b'decades', b'analogue', b'michelob', b'kapoor', b'lar', b'algebraically', b'microcebus', b'ssbn',\n",
      "Nearest to b'people': b'resurrection', b'blackwood', b'nguni', b'reprint', b'callithrix', b'cebus', b'bargain', b'opus',\n",
      "Nearest to b'as': b'abet', b'when', b'marmoset', b'thibetanus', b'tupelo', b'reginae', b'agouti', b'aquila',\n",
      "Nearest to b'zero': b'five', b'seven', b'eight', b'six', b'nine', b'four', b'dasyprocta', b'callithrix',\n",
      "Nearest to b'have': b'had', b'has', b'were', b'are', b'be', b'serbians', b'having', b'tamarin',\n",
      "Nearest to b'seven': b'six', b'five', b'eight', b'four', b'nine', b'three', b'zero', b'one',\n",
      "Nearest to b'however': b'but', b'which', b'that', b'when', b'although', b'amputation', b'thibetanus', b'microcebus',\n",
      "Nearest to b'only': b'agouti', b'usually', b'antiwar', b'page', b'agave', b'tantra', b'cebus', b'cegep',\n",
      "Nearest to b'no': b'another', b'any', b'a', b'serialized', b'dist', b'cegep', b'amputation', b'northwards',\n",
      "Nearest to b'united': b'anoa', b'same', b'autistics', b'following', b'sweyn', b'of', b'kingdom', b'transponder',\n",
      "Nearest to b'new': b'expounded', b'one', b'amputation', b'thaler', b'transcribed', b'nucleotide', b'aberdeen', b'tamarin',\n",
      "Nearest to b'four': b'five', b'seven', b'six', b'three', b'eight', b'two', b'nine', b'one',\n",
      "Nearest to b'some': b'many', b'both', b'these', b'several', b'amalthea', b'abet', b'various', b'all',\n",
      "Nearest to b'while': b'and', b'though', b'aba', b'abet', b'for', b'when', b'but', b'tamarin',\n",
      "Nearest to b'they': b'we', b'he', b'there', b'it', b'you', b'who', b'she', b'not',\n",
      "Nearest to b'has': b'had', b'have', b'was', b'is', b'having', b'tamarin', b'predates', b'hasten',\n"
     ]
    },
    {
     "name": "stdout",
     "output_type": "stream",
     "text": [
      "Average loss at step  92000 :  4.719303457856178\n",
      "Average loss at step  94000 :  4.623067418932915\n",
      "Average loss at step  96000 :  4.740556237578392\n",
      "Average loss at step  98000 :  4.623803770661354\n",
      "Average loss at step  100000 :  4.670816032290459\n",
      "Nearest to b'years': b'decades', b'analogue', b'michelob', b'pared', b'lar', b'microcebus', b'kapoor', b'algebraically',\n",
      "Nearest to b'people': b'nguni', b'resurrection', b'callithrix', b'blackwood', b'reprint', b'cebus', b'bargain', b'opus',\n",
      "Nearest to b'as': b'abet', b'when', b'marmoset', b'aquila', b'tamarin', b'microcebus', b'thaler', b'tupelo',\n",
      "Nearest to b'zero': b'five', b'eight', b'seven', b'six', b'nine', b'four', b'callithrix', b'dasyprocta',\n",
      "Nearest to b'have': b'had', b'has', b'were', b'are', b'be', b'having', b'serbians', b'sennacherib',\n",
      "Nearest to b'seven': b'six', b'eight', b'five', b'nine', b'four', b'three', b'zero', b'two',\n",
      "Nearest to b'however': b'but', b'which', b'that', b'when', b'and', b'although', b'amputation', b'thibetanus',\n",
      "Nearest to b'only': b'usually', b'agouti', b'cegep', b'antiwar', b'page', b'tamarin', b'agave', b'tantra',\n",
      "Nearest to b'no': b'any', b'another', b'a', b'serialized', b'dist', b'northwards', b'amputation', b'animists',\n",
      "Nearest to b'united': b'anoa', b'same', b'following', b'sweyn', b'autistics', b'kingdom', b'transponder', b'isomorphisms',\n",
      "Nearest to b'new': b'expounded', b'thaler', b'amputation', b'transcribed', b'nucleotide', b'mesoplodon', b'aberdeen', b'tamarin',\n",
      "Nearest to b'four': b'five', b'six', b'seven', b'three', b'eight', b'two', b'nine', b'zero',\n",
      "Nearest to b'some': b'many', b'these', b'several', b'both', b'the', b'various', b'amalthea', b'any',\n",
      "Nearest to b'while': b'and', b'though', b'when', b'however', b'aba', b'abet', b'but', b'tamarin',\n",
      "Nearest to b'they': b'we', b'he', b'there', b'you', b'it', b'who', b'she', b'not',\n",
      "Nearest to b'has': b'had', b'have', b'was', b'is', b'having', b'omim', b'tamarin', b'predates',\n"
     ]
    }
   ],
   "source": [
    "\n",
    "num_steps = 100001\n",
    "\n",
    "with tf.Session(graph=graph) as session:\n",
    "  # 트레이닝을 시작하기 전에 모든 변수들을 초기화한다.\n",
    "  tf.initialize_all_variables().run()\n",
    "  print(\"Initialized\")\n",
    "\n",
    "  average_loss = 0\n",
    "  for step in xrange(num_steps):\n",
    "    batch_inputs, batch_labels = generate_batch(\n",
    "        batch_size, num_skips, skip_window)\n",
    "    feed_dict = {train_inputs : batch_inputs, train_labels : batch_labels}\n",
    "\n",
    "    # optimizer op을 평가(evaluating)하면서 한 스텝 업데이트를 진행한다.\n",
    "    _, loss_val = session.run([optimizer, loss], feed_dict=feed_dict)\n",
    "    average_loss += loss_val\n",
    "\n",
    "    if step % 2000 == 0:\n",
    "      if step > 0:\n",
    "        average_loss /= 2000\n",
    "      # 평균 손실(average loss)은 지난 2000 배치의 손실(loss)로부터 측정된다.\n",
    "      print(\"Average loss at step \", step, \": \", average_loss)\n",
    "      average_loss = 0\n",
    "\n",
    "    # Note that this is expensive (~20% slowdown if computed every 500 steps)\n",
    "    if step % 10000 == 0:\n",
    "      sim = similarity.eval()\n",
    "      for i in xrange(valid_size):\n",
    "        valid_word = reverse_dictionary[valid_examples[i]]\n",
    "        top_k = 8 # nearest neighbors의 개수\n",
    "        nearest = (-sim[i, :]).argsort()[1:top_k+1]\n",
    "        log_str = \"Nearest to %s:\" % valid_word\n",
    "        for k in xrange(top_k):\n",
    "          close_word = reverse_dictionary[nearest[k]]\n",
    "          log_str = \"%s %s,\" % (log_str, close_word)\n",
    "        print(log_str)\n",
    "  final_embeddings = normalized_embeddings.eval()\n",
    "\n"
   ]
  },
  {
   "cell_type": "markdown",
   "metadata": {
    "colab_type": "text",
    "id": "9narxi4-vm5s"
   },
   "source": [
    "# Step 6: embeddings을 시각화한다."
   ]
  },
  {
   "cell_type": "code",
   "execution_count": 7,
   "metadata": {
    "colab": {
     "base_uri": "https://localhost:8080/",
     "height": 1026
    },
    "colab_type": "code",
    "id": "B5KTbN52uZE0",
    "outputId": "2bbccb48-ad6f-4458-e3b5-6b10e194670c"
   },
   "outputs": [
    {
     "name": "stdout",
     "output_type": "stream",
     "text": [
      "Please install sklearn and matplotlib to visualize embeddings.\n"
     ]
    }
   ],
   "source": [
    "\n",
    "\n",
    "def plot_with_labels(low_dim_embs, labels, filename='tsne.png'):\n",
    "  assert low_dim_embs.shape[0] >= len(labels), \"More labels than embeddings\"\n",
    "  plt.figure(figsize=(18, 18))  #in inches\n",
    "  for i, label in enumerate(labels):\n",
    "    x, y = low_dim_embs[i,:]\n",
    "    plt.scatter(x, y)\n",
    "    plt.annotate(label,\n",
    "                 xy=(x, y),\n",
    "                 xytext=(5, 2),\n",
    "                 textcoords='offset points',\n",
    "                 ha='right',\n",
    "                 va='bottom')\n",
    "\n",
    "  plt.savefig(filename)\n",
    "\n",
    "try:\n",
    "  from sklearn.manifold import TSNE\n",
    "  import matplotlib.pyplot as plt\n",
    "\n",
    "  tsne = TSNE(perplexity=30, n_components=2, init='pca', n_iter=5000)\n",
    "  plot_only = 500\n",
    "  low_dim_embs = tsne.fit_transform(final_embeddings[:plot_only,:])\n",
    "  labels = [reverse_dictionary[i] for i in xrange(plot_only)]\n",
    "  plot_with_labels(low_dim_embs, labels)\n",
    "\n",
    "except ImportError:\n",
    "  print(\"Please install sklearn and matplotlib to visualize embeddings.\")"
   ]
  }
 ],
 "metadata": {
  "colab": {
   "name": "Embedding.ipynb",
   "provenance": [],
   "toc_visible": true,
   "version": "0.3.2"
  },
  "kernelspec": {
   "display_name": "Python 3",
   "language": "python",
   "name": "python3"
  },
  "language_info": {
   "codemirror_mode": {
    "name": "ipython",
    "version": 3
   },
   "file_extension": ".py",
   "mimetype": "text/x-python",
   "name": "python",
   "nbconvert_exporter": "python",
   "pygments_lexer": "ipython3",
   "version": "3.5.6"
  }
 },
 "nbformat": 4,
 "nbformat_minor": 1
}
